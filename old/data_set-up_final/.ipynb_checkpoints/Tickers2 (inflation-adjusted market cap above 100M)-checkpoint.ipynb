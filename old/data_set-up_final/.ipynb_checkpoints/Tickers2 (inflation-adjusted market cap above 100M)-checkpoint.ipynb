version https://git-lfs.github.com/spec/v1
oid sha256:7c8f92a91033ba5d1805c0b52e6213a7769310d6e2f33dfa27e940401bee084a
size 172425
