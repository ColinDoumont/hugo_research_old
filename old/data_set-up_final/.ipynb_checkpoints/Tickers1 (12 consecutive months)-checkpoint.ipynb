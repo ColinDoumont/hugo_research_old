version https://git-lfs.github.com/spec/v1
oid sha256:62ad4e0a2c7725cc2a5561f3cfca8d38f9724ce523fd71bd52884d334a8b78f2
size 204299
