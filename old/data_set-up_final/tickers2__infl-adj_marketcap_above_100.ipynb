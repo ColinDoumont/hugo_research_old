version https://git-lfs.github.com/spec/v1
oid sha256:e3346e7256b58ecaf1d03e44f9ac6344615b52c0a998d98761451cb10546c7db
size 191542
