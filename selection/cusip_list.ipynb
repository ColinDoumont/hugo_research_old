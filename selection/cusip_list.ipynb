{
 "cells": [
  {
   "cell_type": "code",
   "execution_count": 1,
   "metadata": {},
   "outputs": [],
   "source": [
    "import pandas as pd\n",
    "import numpy as np\n",
    "from IPython.display import display\n",
    "from datetime import timedelta"
   ]
  },
  {
   "cell_type": "code",
   "execution_count": 2,
   "metadata": {
    "scrolled": true
   },
   "outputs": [
    {
     "name": "stdout",
     "output_type": "stream",
     "text": [
      "Number of unique CUSIP id's: 12441\n"
     ]
    }
   ],
   "source": [
    "# Load quarterly price data.\n",
    "df = pd.read_csv(r'/Users/Colin/Desktop/Research project/Data/data_v2/cusip_list_q.csv')\n",
    "df['datadate'] = pd.to_datetime(df.datadate, format='%d/%m/%Y')\n",
    "print(\"Number of unique CUSIP id's: \" + str(df['cusip'].nunique()))"
   ]
  },
  {
   "cell_type": "code",
   "execution_count": 3,
   "metadata": {},
   "outputs": [
    {
     "data": {
      "text/html": [
       "<div>\n",
       "<style scoped>\n",
       "    .dataframe tbody tr th:only-of-type {\n",
       "        vertical-align: middle;\n",
       "    }\n",
       "\n",
       "    .dataframe tbody tr th {\n",
       "        vertical-align: top;\n",
       "    }\n",
       "\n",
       "    .dataframe thead th {\n",
       "        text-align: right;\n",
       "    }\n",
       "</style>\n",
       "<table border=\"1\" class=\"dataframe\">\n",
       "  <thead>\n",
       "    <tr style=\"text-align: right;\">\n",
       "      <th></th>\n",
       "      <th>cusip</th>\n",
       "      <th>first</th>\n",
       "      <th>last</th>\n",
       "      <th>months_traded</th>\n",
       "    </tr>\n",
       "  </thead>\n",
       "  <tbody>\n",
       "    <tr>\n",
       "      <th>0</th>\n",
       "      <td>000032102</td>\n",
       "      <td>1970-09-30</td>\n",
       "      <td>1978-03-31</td>\n",
       "      <td>89</td>\n",
       "    </tr>\n",
       "    <tr>\n",
       "      <th>1</th>\n",
       "      <td>000165100</td>\n",
       "      <td>1983-09-30</td>\n",
       "      <td>1986-03-31</td>\n",
       "      <td>29</td>\n",
       "    </tr>\n",
       "    <tr>\n",
       "      <th>2</th>\n",
       "      <td>000209106</td>\n",
       "      <td>1987-06-30</td>\n",
       "      <td>1993-06-30</td>\n",
       "      <td>72</td>\n",
       "    </tr>\n",
       "    <tr>\n",
       "      <th>3</th>\n",
       "      <td>000360206</td>\n",
       "      <td>1991-03-31</td>\n",
       "      <td>2017-09-30</td>\n",
       "      <td>318</td>\n",
       "    </tr>\n",
       "    <tr>\n",
       "      <th>4</th>\n",
       "      <td>000361105</td>\n",
       "      <td>1970-02-28</td>\n",
       "      <td>2017-08-31</td>\n",
       "      <td>570</td>\n",
       "    </tr>\n",
       "  </tbody>\n",
       "</table>\n",
       "</div>"
      ],
      "text/plain": [
       "       cusip      first       last  months_traded\n",
       "0  000032102 1970-09-30 1978-03-31             89\n",
       "1  000165100 1983-09-30 1986-03-31             29\n",
       "2  000209106 1987-06-30 1993-06-30             72\n",
       "3  000360206 1991-03-31 2017-09-30            318\n",
       "4  000361105 1970-02-28 2017-08-31            570"
      ]
     },
     "execution_count": 3,
     "metadata": {},
     "output_type": "execute_result"
    }
   ],
   "source": [
    "# Computing number of months that each stock (=cusip) has been traded. #FIXME: how to get consecutive months?\n",
    "df_12m = df[['datadate', 'cusip', 'prccq']]\n",
    "df_12m = df_12m.dropna()\n",
    "df_12m = df_12m.groupby('cusip')['datadate'].agg(['min','max']).rename(columns={'min':'first','max':'last'}).reset_index()\n",
    "df_12m[['first', 'last']] = df_12m[['first', 'last']].apply(pd.to_datetime)\n",
    "df_12m['months_traded'] = ((df_12m['last'] - df_12m['first'])/np.timedelta64(1, 'M'))\n",
    "df_12m['months_traded']= df_12m['months_traded'].astype(int)\n",
    "df_12m.head()"
   ]
  },
  {
   "cell_type": "code",
   "execution_count": 4,
   "metadata": {},
   "outputs": [
    {
     "name": "stdout",
     "output_type": "stream",
     "text": [
      "Number of consecutive days that TSLA has been traded:\n"
     ]
    },
    {
     "data": {
      "text/html": [
       "<div>\n",
       "<style scoped>\n",
       "    .dataframe tbody tr th:only-of-type {\n",
       "        vertical-align: middle;\n",
       "    }\n",
       "\n",
       "    .dataframe tbody tr th {\n",
       "        vertical-align: top;\n",
       "    }\n",
       "\n",
       "    .dataframe thead th {\n",
       "        text-align: right;\n",
       "    }\n",
       "</style>\n",
       "<table border=\"1\" class=\"dataframe\">\n",
       "  <thead>\n",
       "    <tr style=\"text-align: right;\">\n",
       "      <th></th>\n",
       "      <th>cusip</th>\n",
       "      <th>first</th>\n",
       "      <th>last</th>\n",
       "      <th>months_traded</th>\n",
       "    </tr>\n",
       "  </thead>\n",
       "  <tbody>\n",
       "    <tr>\n",
       "      <th>10096</th>\n",
       "      <td>88160R101</td>\n",
       "      <td>2010-06-30</td>\n",
       "      <td>2017-09-30</td>\n",
       "      <td>87</td>\n",
       "    </tr>\n",
       "  </tbody>\n",
       "</table>\n",
       "</div>"
      ],
      "text/plain": [
       "           cusip      first       last  months_traded\n",
       "10096  88160R101 2010-06-30 2017-09-30             87"
      ]
     },
     "execution_count": 4,
     "metadata": {},
     "output_type": "execute_result"
    }
   ],
   "source": [
    "# Quality check.\n",
    "print(\"Number of consecutive days that TSLA has been traded:\")\n",
    "df_12m.loc[df_12m['cusip'] == '88160R101']"
   ]
  },
  {
   "cell_type": "code",
   "execution_count": 5,
   "metadata": {},
   "outputs": [
    {
     "name": "stdout",
     "output_type": "stream",
     "text": [
      "Number of unique CUSIP id's after 12m filter: 10764\n"
     ]
    }
   ],
   "source": [
    "# Creating list with unique CUSIP id's remaining after 12m filter.\n",
    "cusip_list_12m = df_12m['cusip'].loc[(df_12m['months_traded'] >= 12)].tolist()\n",
    "print(\"Number of unique CUSIP id's after 12m filter: \" + str(len(set(cusip_list_12m))))"
   ]
  },
  {
   "cell_type": "code",
   "execution_count": 6,
   "metadata": {},
   "outputs": [],
   "source": [
    "# Creating dataframe for market cap filter.\n",
    "df_marketcap = df[['datadate', 'cusip', 'prccq', 'cshoq']]\n",
    "df_marketcap = df_marketcap.loc[df_marketcap['cusip'].isin(cusip_list_12m)]\n",
    "df_marketcap['datadate'] = (pd.to_datetime(df['datadate']) + timedelta(days=1))\n"
   ]
  },
  {
   "cell_type": "code",
   "execution_count": 7,
   "metadata": {},
   "outputs": [],
   "source": [
    "# Loading inflation data.\n",
    "inflation = pd.read_excel(r'/Users/Colin/Desktop/Research project/Data/Data - Final/Inflation adjustment/CPIAUCNS.xls')\n",
    "inflation.rename(columns={'Date': 'datadate'}, inplace=True)\n",
    "\n",
    "# Creating index multiplier.\n",
    "inflation['CPI_Multiplier'] = inflation['CPIAUCNS'].iloc[-1] / inflation['CPIAUCNS']"
   ]
  },
  {
   "cell_type": "code",
   "execution_count": 8,
   "metadata": {},
   "outputs": [
    {
     "data": {
      "text/html": [
       "<div>\n",
       "<style scoped>\n",
       "    .dataframe tbody tr th:only-of-type {\n",
       "        vertical-align: middle;\n",
       "    }\n",
       "\n",
       "    .dataframe tbody tr th {\n",
       "        vertical-align: top;\n",
       "    }\n",
       "\n",
       "    .dataframe thead th {\n",
       "        text-align: right;\n",
       "    }\n",
       "</style>\n",
       "<table border=\"1\" class=\"dataframe\">\n",
       "  <thead>\n",
       "    <tr style=\"text-align: right;\">\n",
       "      <th></th>\n",
       "      <th>datadate</th>\n",
       "      <th>cusip</th>\n",
       "      <th>prccq</th>\n",
       "      <th>cshoq</th>\n",
       "      <th>CPIAUCNS</th>\n",
       "      <th>CPI_Multiplier</th>\n",
       "      <th>CPIAdjMarketCap</th>\n",
       "      <th>CPIAdjMarketCap_max</th>\n",
       "    </tr>\n",
       "  </thead>\n",
       "  <tbody>\n",
       "    <tr>\n",
       "      <th>0</th>\n",
       "      <td>1970-04-01</td>\n",
       "      <td>000032102</td>\n",
       "      <td>NaN</td>\n",
       "      <td>2.230</td>\n",
       "      <td>38.5</td>\n",
       "      <td>6.879922</td>\n",
       "      <td>NaN</td>\n",
       "      <td>225.860486</td>\n",
       "    </tr>\n",
       "    <tr>\n",
       "      <th>1</th>\n",
       "      <td>1970-04-01</td>\n",
       "      <td>001476100</td>\n",
       "      <td>7.875</td>\n",
       "      <td>4.622</td>\n",
       "      <td>38.5</td>\n",
       "      <td>6.879922</td>\n",
       "      <td>250.417124</td>\n",
       "      <td>250.417124</td>\n",
       "    </tr>\n",
       "    <tr>\n",
       "      <th>2</th>\n",
       "      <td>1970-04-01</td>\n",
       "      <td>001670108</td>\n",
       "      <td>9.000</td>\n",
       "      <td>0.857</td>\n",
       "      <td>38.5</td>\n",
       "      <td>6.879922</td>\n",
       "      <td>53.064839</td>\n",
       "      <td>86.014019</td>\n",
       "    </tr>\n",
       "    <tr>\n",
       "      <th>3</th>\n",
       "      <td>1970-04-01</td>\n",
       "      <td>001688100</td>\n",
       "      <td>21.500</td>\n",
       "      <td>NaN</td>\n",
       "      <td>38.5</td>\n",
       "      <td>6.879922</td>\n",
       "      <td>NaN</td>\n",
       "      <td>7335.588348</td>\n",
       "    </tr>\n",
       "    <tr>\n",
       "      <th>4</th>\n",
       "      <td>1970-04-01</td>\n",
       "      <td>02376R102</td>\n",
       "      <td>26.875</td>\n",
       "      <td>NaN</td>\n",
       "      <td>38.5</td>\n",
       "      <td>6.879922</td>\n",
       "      <td>NaN</td>\n",
       "      <td>42394.446634</td>\n",
       "    </tr>\n",
       "  </tbody>\n",
       "</table>\n",
       "</div>"
      ],
      "text/plain": [
       "    datadate      cusip   prccq  cshoq  CPIAUCNS  CPI_Multiplier  \\\n",
       "0 1970-04-01  000032102     NaN  2.230      38.5        6.879922   \n",
       "1 1970-04-01  001476100   7.875  4.622      38.5        6.879922   \n",
       "2 1970-04-01  001670108   9.000  0.857      38.5        6.879922   \n",
       "3 1970-04-01  001688100  21.500    NaN      38.5        6.879922   \n",
       "4 1970-04-01  02376R102  26.875    NaN      38.5        6.879922   \n",
       "\n",
       "   CPIAdjMarketCap  CPIAdjMarketCap_max  \n",
       "0              NaN           225.860486  \n",
       "1       250.417124           250.417124  \n",
       "2        53.064839            86.014019  \n",
       "3              NaN          7335.588348  \n",
       "4              NaN         42394.446634  "
      ]
     },
     "execution_count": 8,
     "metadata": {},
     "output_type": "execute_result"
    }
   ],
   "source": [
    "# Merging df_marketcap with inflation dataframe and creating CPI multiplier.\n",
    "df_marketcap = pd.merge(df_marketcap, inflation, how='inner', on='datadate')\n",
    "df_marketcap['CPIAdjMarketCap'] = df_marketcap['prccq'] * df_marketcap['cshoq'] * df_marketcap['CPI_Multiplier']\n",
    "df_marketcap['CPIAdjMarketCap_max'] = df_marketcap.groupby(['cusip'])['CPIAdjMarketCap'].transform(max)\n",
    "df_marketcap.head()\n"
   ]
  },
  {
   "cell_type": "code",
   "execution_count": 9,
   "metadata": {},
   "outputs": [
    {
     "name": "stdout",
     "output_type": "stream",
     "text": [
      "Number of unique CUSIP id's after 12m and market cap filter: 9768\n"
     ]
    }
   ],
   "source": [
    "# Creating list with unique CUSIP id's remaining after 12m filter.\n",
    "cusip_list_12m_marketcap = set(df_marketcap['cusip'].loc[(df_marketcap['CPIAdjMarketCap_max'] >= 100)].tolist())\n",
    "print(\"Number of unique CUSIP id's after 12m and market cap filter: \" + str(len(cusip_list_12m_marketcap)))"
   ]
  },
  {
   "cell_type": "code",
   "execution_count": 10,
   "metadata": {},
   "outputs": [],
   "source": [
    "# Save the above list as cusip_list.txt\n",
    "f = open('cusip_list.txt', 'w')\n",
    "print(*cusip_list_12m_marketcap, sep='\\n', file = f)\n",
    "f.close()"
   ]
  }
 ],
 "metadata": {
  "kernelspec": {
   "display_name": "Python 3",
   "language": "python",
   "name": "python3"
  },
  "language_info": {
   "codemirror_mode": {
    "name": "ipython",
    "version": 3
   },
   "file_extension": ".py",
   "mimetype": "text/x-python",
   "name": "python",
   "nbconvert_exporter": "python",
   "pygments_lexer": "ipython3",
   "version": "3.9.7"
  }
 },
 "nbformat": 4,
 "nbformat_minor": 4
}
