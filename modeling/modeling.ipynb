{
 "cells": [
  {
   "cell_type": "code",
   "execution_count": 1,
   "metadata": {},
   "outputs": [
    {
     "data": {
      "text/plain": [
       "[PhysicalDevice(name='/physical_device:CPU:0', device_type='CPU'),\n",
       " PhysicalDevice(name='/physical_device:GPU:0', device_type='GPU')]"
      ]
     },
     "execution_count": 1,
     "metadata": {},
     "output_type": "execute_result"
    }
   ],
   "source": [
    "import tensorflow as tf\n",
    "tf.config.list_physical_devices()"
   ]
  },
  {
   "cell_type": "code",
   "execution_count": 2,
   "metadata": {},
   "outputs": [
    {
     "name": "stdout",
     "output_type": "stream",
     "text": [
      "Num GPUs Available:  1\n"
     ]
    }
   ],
   "source": [
    "print(\"Num GPUs Available: \", len(tf.config.list_physical_devices('GPU')))"
   ]
  },
  {
   "cell_type": "code",
   "execution_count": 3,
   "metadata": {},
   "outputs": [],
   "source": [
    "# Importing required packages.\n",
    "import pandas as pd\n",
    "from tensorflow.keras.models import Sequential, load_model\n",
    "from tensorflow.keras.layers import Dense, BatchNormalization, Dropout\n",
    "from tensorflow.keras.callbacks import EarlyStopping, ModelCheckpoint\n",
    "from tensorflow.keras.callbacks import ModelCheckpoint\n",
    "from tensorflow.keras.optimizers import Adadelta, Adam"
   ]
  },
  {
   "cell_type": "code",
   "execution_count": 4,
   "metadata": {},
   "outputs": [],
   "source": [
    "# Reading all dataframes needed for modeling.\n",
    "X_train = pd.read_pickle(\"../preprocessing/X_train.pkl\")\n",
    "X_val = pd.read_pickle(\"../preprocessing/X_val.pkl\")\n",
    "X_test = pd.read_pickle(\"../preprocessing/X_test.pkl\")\n",
    "y_train = pd.read_pickle(\"../preprocessing/y_train.pkl\")\n",
    "y_val = pd.read_pickle(\"../preprocessing/y_val.pkl\")\n",
    "y_test = pd.read_pickle(\"../preprocessing/y_test.pkl\")"
   ]
  },
  {
   "cell_type": "code",
   "execution_count": 5,
   "metadata": {},
   "outputs": [],
   "source": [
    "import keras.backend as K\n",
    "\n",
    "# Defining custom MSE function.\n",
    "def custom_mse(y_true,y_pred):\n",
    "   \n",
    "    index=4     #FIXME\n",
    "    alpha=0.75  #FIXME\n",
    "   \n",
    "    ncol = y_true.shape[1]\n",
    "    alpha1 = alpha\n",
    "    alpha0 = (1-alpha)/(ncol-1.0)\n",
    "\n",
    "    loss = K.square(y_pred-y_true)\n",
    "\n",
    "    weights = []\n",
    "    for i in range(ncol):\n",
    "        if (i == index):\n",
    "            weights.append(alpha1)\n",
    "        else: \n",
    "            weights.append(alpha0)\n",
    "\n",
    "    loss = loss * weights\n",
    "\n",
    "    return K.mean(K.sum(loss, axis=1))\n",
    "\n",
    "mse = tf.keras.losses.MeanSquaredError()"
   ]
  },
  {
   "cell_type": "code",
   "execution_count": 6,
   "metadata": {},
   "outputs": [
    {
     "name": "stdout",
     "output_type": "stream",
     "text": [
      "Metal device set to: NVIDIA GeForce GT 750M\n",
      "\n",
      "systemMemory: 16.00 GB\n",
      "maxCacheSize: 1.00 GB\n",
      "\n"
     ]
    },
    {
     "name": "stderr",
     "output_type": "stream",
     "text": [
      "2022-01-26 23:09:51.749699: I tensorflow/core/platform/cpu_feature_guard.cc:151] This TensorFlow binary is optimized with oneAPI Deep Neural Network Library (oneDNN) to use the following CPU instructions in performance-critical operations:  AVX2 FMA\n",
      "To enable them in other operations, rebuild TensorFlow with the appropriate compiler flags.\n",
      "2022-01-26 23:09:51.750088: I tensorflow/core/common_runtime/pluggable_device/pluggable_device_factory.cc:305] Could not identify NUMA node of platform GPU ID 0, defaulting to 0. Your kernel may not have been built with NUMA support.\n",
      "2022-01-26 23:09:51.750262: I tensorflow/core/common_runtime/pluggable_device/pluggable_device_factory.cc:271] Created TensorFlow device (/job:localhost/replica:0/task:0/device:GPU:0 with 0 MB memory) -> physical PluggableDevice (device: 0, name: METAL, pci bus id: <undefined>)\n"
     ]
    }
   ],
   "source": [
    "# Defining the Keras model.\n",
    "model = Sequential()\n",
    "model.add(Dense(1, input_dim=120, activation='relu')) #FIXME\n",
    "model.add(Dense(16, activation='relu'))\n",
    "\n",
    "opt = Adam(learning_rate=1.18, clipnorm=1.0\n",
    ")\n",
    "model.compile(loss=custom_mse, optimizer=opt, metrics=['mean_squared_error']) #FIXME: upweigh EBIT in loss!"
   ]
  },
  {
   "cell_type": "code",
   "execution_count": 7,
   "metadata": {},
   "outputs": [],
   "source": [
    "# # Defining the Keras model.\n",
    "# model = Sequential()\n",
    "# model.add(Dense(1024, input_dim=120, activation='relu')) #FIXME\n",
    "# model.add(BatchNormalization())\n",
    "# model.add(Dropout(0.5))\n",
    "# model.add(Dense(1024, activation='relu'))\n",
    "# model.add(BatchNormalization())\n",
    "# model.add(Dropout(0.5))\n",
    "# model.add(Dense(16, activation='relu'))\n",
    "\n",
    "# opt = Adadelta(learning_rate=1.18, clipnorm=1.0\n",
    "# )\n",
    "# model.compile(loss=custom_mse, optimizer=opt, metrics=['mean_squared_error']) #FIXME: upweigh EBIT in loss!"
   ]
  },
  {
   "cell_type": "code",
   "execution_count": 8,
   "metadata": {},
   "outputs": [
    {
     "name": "stderr",
     "output_type": "stream",
     "text": [
      "2022-01-26 23:09:53.365794: I tensorflow/core/grappler/optimizers/custom_graph_optimizer_registry.cc:112] Plugin optimizer for device_type GPU is enabled.\n",
      "2022-01-26 23:09:58.443599: I tensorflow/core/grappler/optimizers/custom_graph_optimizer_registry.cc:112] Plugin optimizer for device_type GPU is enabled.\n"
     ]
    },
    {
     "name": "stdout",
     "output_type": "stream",
     "text": [
      "\n",
      "Epoch 00001: val_loss improved from inf to 18.48960, saving model to best_model.h5\n",
      "\n",
      "Epoch 00002: val_loss did not improve from 18.48960\n",
      "Epoch 00002: early stopping\n"
     ]
    }
   ],
   "source": [
    "# simple early stopping\n",
    "es = EarlyStopping(monitor='val_loss', mode='min', verbose=1, patience=0)\n",
    "mc = ModelCheckpoint('best_model.h5', monitor='val_loss', mode='min', verbose=1, save_best_only=True)\n",
    "\n",
    "# fit model\n",
    "history = model.fit(X_train, y_train, validation_data=(X_val, y_val), epochs=250, verbose=0, callbacks=[es, mc], batch_size=250)"
   ]
  },
  {
   "cell_type": "code",
   "execution_count": 10,
   "metadata": {},
   "outputs": [
    {
     "name": "stderr",
     "output_type": "stream",
     "text": [
      "2022-01-26 23:10:14.438679: I tensorflow/core/grappler/optimizers/custom_graph_optimizer_registry.cc:112] Plugin optimizer for device_type GPU is enabled.\n"
     ]
    },
    {
     "name": "stdout",
     "output_type": "stream",
     "text": [
      "Train: 1.000, Val: 10.482 and Test: 8853.989\n"
     ]
    }
   ],
   "source": [
    "# load the saved model\n",
    "saved_model = load_model('best_model.h5', custom_objects={'custom_mse': custom_mse})\n",
    "\n",
    "# evaluate the model\n",
    "_, train_acc = saved_model.evaluate(X_train, y_train, verbose=0)\n",
    "_, val_acc = saved_model.evaluate(X_val, y_val, verbose=0)\n",
    "_, test_acc = saved_model.evaluate(X_test, y_test, verbose=0)\n",
    "print('Train: %.3f, Val: %.3f and Test: %.3f' % (train_acc, val_acc, test_acc))"
   ]
  },
  {
   "cell_type": "code",
   "execution_count": null,
   "metadata": {},
   "outputs": [],
   "source": [
    "# Scaling by markcapq, with batchnorm + clipnorm => Train: 0.996, Test: 2770.782\n",
    "# No scaling by markcapq, with batchnorm + clipnorm => Train: 0.624, Test: 3.197\n",
    "# No scaling by markcapq, without batchnorm + clipnorm => Train: 0.216, Test: 1.297\n",
    "# Scaling by markcapq, wihtout batchnorm + clipnorm => Train: 0.174, Test: 908.707"
   ]
  },
  {
   "cell_type": "code",
   "execution_count": null,
   "metadata": {},
   "outputs": [
    {
     "data": {
      "image/png": "[encoded data removed]",
      "text/plain": [
       "<Figure size 432x288 with 1 Axes>"
      ]
     },
     "metadata": {
      "needs_background": "light"
     },
     "output_type": "display_data"
    }
   ],
   "source": [
    "from matplotlib import pyplot\n",
    "\n",
    "# plot training history\n",
    "pyplot.plot(history.history['mean_squared_error'], label='train_mse')\n",
    "pyplot.plot(history.history['val_mean_squared_error'], label='val_mse')\n",
    "pyplot.legend()\n",
    "pyplot.show()"
   ]
  },
  {
   "cell_type": "code",
   "execution_count": null,
   "metadata": {},
   "outputs": [],
   "source": []
  }
 ],
 "metadata": {
  "interpreter": {
   "hash": "7c1ff8466b40987790f7003318d5d566d36912b165f995ac60b7541822dbaa6e"
  },
  "kernelspec": {
   "display_name": "Python 3.7.11 64-bit ('tf': conda)",
   "language": "python",
   "name": "python3"
  },
  "language_info": {
   "codemirror_mode": {
    "name": "ipython",
    "version": 3
   },
   "file_extension": ".py",
   "mimetype": "text/x-python",
   "name": "python",
   "nbconvert_exporter": "python",
   "pygments_lexer": "ipython3",
   "version": "3.8.12"
  },
  "orig_nbformat": 4
 },
 "nbformat": 4,
 "nbformat_minor": 2
}
