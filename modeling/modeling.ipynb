{
 "cells": [
  {
   "cell_type": "code",
   "execution_count": 1,
   "metadata": {},
   "outputs": [],
   "source": [
    "# Importing required packages.\n",
    "import pandas as pd\n",
    "import tensorflow as tf\n",
    "from tensorflow.keras.models import Sequential, load_model\n",
    "from tensorflow.keras.layers import Dense, BatchNormalization, Dropout\n",
    "from tensorflow.keras.callbacks import EarlyStopping, ModelCheckpoint\n",
    "from tensorflow.keras.callbacks import ModelCheckpoint\n",
    "from tensorflow.keras.optimizers import Adadelta, Adam"
   ]
  },
  {
   "cell_type": "code",
   "execution_count": 2,
   "metadata": {},
   "outputs": [
    {
     "name": "stdout",
     "output_type": "stream",
     "text": [
      "Num GPUs Available:  1\n"
     ]
    }
   ],
   "source": [
    "# Checking that Tensorflow has access to the GPU power.\n",
    "print(\"Num GPUs Available: \", len(tf.config.list_physical_devices('GPU')))"
   ]
  },
  {
   "cell_type": "code",
   "execution_count": 3,
   "metadata": {},
   "outputs": [],
   "source": [
    "# Reading all dataframes needed for modeling.\n",
    "X_train = pd.read_pickle(\"../preprocessing/X_train.pkl\")\n",
    "X_val = pd.read_pickle(\"../preprocessing/X_val.pkl\")\n",
    "X_test = pd.read_pickle(\"../preprocessing/X_test.pkl\")\n",
    "y_train = pd.read_pickle(\"../preprocessing/y_train.pkl\")\n",
    "y_val = pd.read_pickle(\"../preprocessing/y_val.pkl\")\n",
    "y_test = pd.read_pickle(\"../preprocessing/y_test.pkl\")"
   ]
  },
  {
   "cell_type": "code",
   "execution_count": 4,
   "metadata": {},
   "outputs": [],
   "source": [
    "import keras.backend as K\n",
    "\n",
    "# Defining custom MSE function.\n",
    "def custom_mse(y_true,y_pred):\n",
    "   \n",
    "    index=4     #FIXME\n",
    "    alpha=0.75  #FIXME\n",
    "   \n",
    "    ncol = y_true.shape[1]\n",
    "    alpha1 = alpha\n",
    "    alpha0 = (1-alpha)/(ncol-1.0)\n",
    "\n",
    "    loss = K.square(y_pred-y_true)\n",
    "\n",
    "    weights = []\n",
    "    for i in range(ncol):\n",
    "        if (i == index):\n",
    "            weights.append(alpha1)\n",
    "        else: \n",
    "            weights.append(alpha0)\n",
    "\n",
    "    loss = loss * weights\n",
    "\n",
    "    return K.mean(K.sum(loss, axis=1))\n",
    "\n",
    "mse = tf.keras.losses.MeanSquaredError()"
   ]
  },
  {
   "cell_type": "code",
   "execution_count": 5,
   "metadata": {},
   "outputs": [],
   "source": [
    "# # Defining the Keras model.\n",
    "# model = Sequential()\n",
    "# model.add(Dense(1, input_dim=120, activation='relu')) #FIXME\n",
    "# model.add(Dense(16, activation='relu'))\n",
    "\n",
    "# opt = Adam(clipnorm=1.0)\n",
    "\n",
    "# model.compile(loss=custom_mse, optimizer=opt, metrics=custom_mse)"
   ]
  },
  {
   "cell_type": "code",
   "execution_count": 6,
   "metadata": {},
   "outputs": [
    {
     "name": "stdout",
     "output_type": "stream",
     "text": [
      "Metal device set to: NVIDIA GeForce GT 750M\n",
      "\n",
      "systemMemory: 16.00 GB\n",
      "maxCacheSize: 1.00 GB\n",
      "\n"
     ]
    },
    {
     "name": "stderr",
     "output_type": "stream",
     "text": [
      "2022-05-02 16:35:23.018804: I tensorflow/core/platform/cpu_feature_guard.cc:151] This TensorFlow binary is optimized with oneAPI Deep Neural Network Library (oneDNN) to use the following CPU instructions in performance-critical operations:  AVX2 FMA\n",
      "To enable them in other operations, rebuild TensorFlow with the appropriate compiler flags.\n",
      "2022-05-02 16:35:23.019181: I tensorflow/core/common_runtime/pluggable_device/pluggable_device_factory.cc:305] Could not identify NUMA node of platform GPU ID 0, defaulting to 0. Your kernel may not have been built with NUMA support.\n",
      "2022-05-02 16:35:23.019353: I tensorflow/core/common_runtime/pluggable_device/pluggable_device_factory.cc:271] Created TensorFlow device (/job:localhost/replica:0/task:0/device:GPU:0 with 0 MB memory) -> physical PluggableDevice (device: 0, name: METAL, pci bus id: <undefined>)\n"
     ]
    }
   ],
   "source": [
    "# Defining the Keras model.\n",
    "model = Sequential()\n",
    "model.add(Dense(512, input_dim=120, activation='relu'))\n",
    "model.add(BatchNormalization())\n",
    "model.add(Dropout(0.5))\n",
    "model.add(Dense(512, activation='relu'))\n",
    "model.add(BatchNormalization())\n",
    "model.add(Dropout(0.5))\n",
    "model.add(Dense(16, activation='relu'))\n",
    "\n",
    "opt = Adam(clipnorm=1.0)\n",
    "\n",
    "model.compile(loss=custom_mse, optimizer=opt, metrics=custom_mse)"
   ]
  },
  {
   "cell_type": "code",
   "execution_count": 7,
   "metadata": {},
   "outputs": [
    {
     "name": "stderr",
     "output_type": "stream",
     "text": [
      "2022-05-02 16:35:25.207894: I tensorflow/core/grappler/optimizers/custom_graph_optimizer_registry.cc:112] Plugin optimizer for device_type GPU is enabled.\n",
      "2022-05-02 16:35:43.047821: I tensorflow/core/grappler/optimizers/custom_graph_optimizer_registry.cc:112] Plugin optimizer for device_type GPU is enabled.\n"
     ]
    },
    {
     "name": "stdout",
     "output_type": "stream",
     "text": [
      "\n",
      "Epoch 00001: loss improved from inf to 1.13592, saving model to best_model.h5\n",
      "\n",
      "Epoch 00002: loss improved from 1.13592 to 1.00127, saving model to best_model.h5\n",
      "\n",
      "Epoch 00003: loss improved from 1.00127 to 1.00067, saving model to best_model.h5\n",
      "\n",
      "Epoch 00004: loss improved from 1.00067 to 1.00025, saving model to best_model.h5\n",
      "\n",
      "Epoch 00005: loss improved from 1.00025 to 1.00009, saving model to best_model.h5\n",
      "\n",
      "Epoch 00006: loss improved from 1.00009 to 1.00008, saving model to best_model.h5\n",
      "\n",
      "Epoch 00007: loss did not improve from 1.00008\n",
      "\n",
      "Epoch 00008: loss did not improve from 1.00008\n",
      "Epoch 00008: early stopping\n"
     ]
    }
   ],
   "source": [
    "# simple early stopping\n",
    "es = EarlyStopping(monitor='loss', mode='min', verbose=1, patience=2)\n",
    "mc = ModelCheckpoint('best_model.h5', monitor='loss', mode='min', verbose=1, save_best_only=True)\n",
    "\n",
    "# fit model\n",
    "history = model.fit(X_train, y_train, validation_data=(X_val, y_val), epochs=150, verbose=0, callbacks=[es, mc], batch_size=250)"
   ]
  },
  {
   "cell_type": "code",
   "execution_count": 8,
   "metadata": {},
   "outputs": [
    {
     "name": "stderr",
     "output_type": "stream",
     "text": [
      "2022-05-02 16:38:30.788974: I tensorflow/core/grappler/optimizers/custom_graph_optimizer_registry.cc:112] Plugin optimizer for device_type GPU is enabled.\n"
     ]
    },
    {
     "name": "stdout",
     "output_type": "stream",
     "text": [
      "Train: 1.000, Val: 18.479 and Test: 2412.159\n"
     ]
    }
   ],
   "source": [
    "# load the saved model\n",
    "saved_model = load_model('best_model.h5', custom_objects={'custom_mse': custom_mse})\n",
    "\n",
    "# evaluate the model\n",
    "_, train_acc = saved_model.evaluate(X_train, y_train, verbose=0)\n",
    "_, val_acc = saved_model.evaluate(X_val, y_val, verbose=0)\n",
    "_, test_acc = saved_model.evaluate(X_test, y_test, verbose=0)\n",
    "print('Train: %.3f, Val: %.3f and Test: %.3f' % (train_acc, val_acc, test_acc))"
   ]
  },
  {
   "cell_type": "code",
   "execution_count": 9,
   "metadata": {},
   "outputs": [
    {
     "name": "stdout",
     "output_type": "stream",
     "text": [
      "Train: 1.000, Val: 18.479 and Test: 2412.159\n"
     ]
    }
   ],
   "source": [
    "print(f'Train: 1.000, Val: 18.479 and Test: 2412.159')"
   ]
  },
  {
   "cell_type": "code",
   "execution_count": 10,
   "metadata": {},
   "outputs": [
    {
     "data": {
      "image/png": "[encoded data removed]",
      "text/plain": [
       "<Figure size 432x288 with 1 Axes>"
      ]
     },
     "metadata": {
      "needs_background": "light"
     },
     "output_type": "display_data"
    }
   ],
   "source": [
    "from matplotlib import pyplot\n",
    "\n",
    "# plot training history\n",
    "pyplot.plot(history.history['loss'], label='train_mse')\n",
    "pyplot.plot(history.history['val_loss'], label='val_mse')\n",
    "pyplot.legend()\n",
    "pyplot.show()"
   ]
  }
 ],
 "metadata": {
  "interpreter": {
   "hash": "7c1ff8466b40987790f7003318d5d566d36912b165f995ac60b7541822dbaa6e"
  },
  "kernelspec": {
   "display_name": "Python 3.7.11 64-bit ('tf': conda)",
   "language": "python",
   "name": "python3"
  },
  "language_info": {
   "codemirror_mode": {
    "name": "ipython",
    "version": 3
   },
   "file_extension": ".py",
   "mimetype": "text/x-python",
   "name": "python",
   "nbconvert_exporter": "python",
   "pygments_lexer": "ipython3",
   "version": "3.8.12"
  },
  "orig_nbformat": 4
 },
 "nbformat": 4,
 "nbformat_minor": 2
}
