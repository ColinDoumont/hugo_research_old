{
 "cells": [
  {
   "cell_type": "code",
   "execution_count": 1,
   "metadata": {},
   "outputs": [
    {
     "data": {
      "text/plain": [
       "[PhysicalDevice(name='/physical_device:CPU:0', device_type='CPU'),\n",
       " PhysicalDevice(name='/physical_device:GPU:0', device_type='GPU')]"
      ]
     },
     "execution_count": 1,
     "metadata": {},
     "output_type": "execute_result"
    }
   ],
   "source": [
    "import tensorflow as tf\n",
    "tf.config.list_physical_devices()"
   ]
  },
  {
   "cell_type": "code",
   "execution_count": 2,
   "metadata": {},
   "outputs": [
    {
     "name": "stdout",
     "output_type": "stream",
     "text": [
      "Num GPUs Available:  1\n"
     ]
    }
   ],
   "source": [
    "print(\"Num GPUs Available: \", len(tf.config.list_physical_devices('GPU')))"
   ]
  },
  {
   "cell_type": "code",
   "execution_count": 3,
   "metadata": {},
   "outputs": [],
   "source": [
    "# Importing required packages.\n",
    "import pandas as pd\n",
    "from tensorflow.keras.models import Sequential, load_model\n",
    "from tensorflow.keras.layers import Dense\n",
    "from tensorflow.keras.callbacks import EarlyStopping, ModelCheckpoint\n",
    "from tensorflow.keras.callbacks import ModelCheckpoint"
   ]
  },
  {
   "cell_type": "code",
   "execution_count": 4,
   "metadata": {},
   "outputs": [],
   "source": [
    "# Reading all dataframes needed for modeling.\n",
    "X_train = pd.read_pickle(\"../preprocessing/X_train.pkl\")\n",
    "X_val = pd.read_pickle(\"../preprocessing/X_val.pkl\")\n",
    "X_test = pd.read_pickle(\"../preprocessing/X_test.pkl\")\n",
    "y_train = pd.read_pickle(\"../preprocessing/y_train.pkl\")\n",
    "y_val = pd.read_pickle(\"../preprocessing/y_val.pkl\")\n",
    "y_test = pd.read_pickle(\"../preprocessing/y_test.pkl\")"
   ]
  },
  {
   "cell_type": "code",
   "execution_count": 5,
   "metadata": {},
   "outputs": [
    {
     "name": "stdout",
     "output_type": "stream",
     "text": [
      "Metal device set to: NVIDIA GeForce GT 750M\n",
      "\n",
      "systemMemory: 16.00 GB\n",
      "maxCacheSize: 1.00 GB\n",
      "\n"
     ]
    },
    {
     "name": "stderr",
     "output_type": "stream",
     "text": [
      "2021-12-28 17:23:07.969833: I tensorflow/core/platform/cpu_feature_guard.cc:151] This TensorFlow binary is optimized with oneAPI Deep Neural Network Library (oneDNN) to use the following CPU instructions in performance-critical operations:  AVX2 FMA\n",
      "To enable them in other operations, rebuild TensorFlow with the appropriate compiler flags.\n",
      "2021-12-28 17:23:07.971003: I tensorflow/core/common_runtime/pluggable_device/pluggable_device_factory.cc:305] Could not identify NUMA node of platform GPU ID 0, defaulting to 0. Your kernel may not have been built with NUMA support.\n",
      "2021-12-28 17:23:07.971269: I tensorflow/core/common_runtime/pluggable_device/pluggable_device_factory.cc:271] Created TensorFlow device (/job:localhost/replica:0/task:0/device:GPU:0 with 0 MB memory) -> physical PluggableDevice (device: 0, name: METAL, pci bus id: <undefined>)\n"
     ]
    }
   ],
   "source": [
    "# Defining the Keras model.\n",
    "model = Sequential()\n",
    "model.add(Dense(1024, input_dim=102, activation='relu'))\n",
    "model.add(Dense(1024, activation='relu'))\n",
    "model.add(Dense(17, activation='sigmoid'))\n",
    "\n",
    "model.compile(loss='mean_squared_error', optimizer='Adadelta', metrics=['accuracy'])"
   ]
  },
  {
   "cell_type": "code",
   "execution_count": 6,
   "metadata": {},
   "outputs": [
    {
     "name": "stderr",
     "output_type": "stream",
     "text": [
      "2021-12-28 17:23:10.867103: I tensorflow/core/grappler/optimizers/custom_graph_optimizer_registry.cc:112] Plugin optimizer for device_type GPU is enabled.\n",
      "2021-12-28 17:24:39.646623: I tensorflow/core/grappler/optimizers/custom_graph_optimizer_registry.cc:112] Plugin optimizer for device_type GPU is enabled.\n"
     ]
    },
    {
     "name": "stdout",
     "output_type": "stream",
     "text": [
      "\n",
      "Epoch 00001: val_accuracy improved from -inf to 0.22945, saving model to best_model.h5\n",
      "\n",
      "Epoch 00002: val_accuracy improved from 0.22945 to 0.29303, saving model to best_model.h5\n",
      "\n",
      "Epoch 00003: val_accuracy did not improve from 0.29303\n",
      "\n",
      "Epoch 00004: val_accuracy did not improve from 0.29303\n",
      "\n",
      "Epoch 00005: val_accuracy did not improve from 0.29303\n",
      "\n",
      "Epoch 00006: val_accuracy did not improve from 0.29303\n",
      "\n",
      "Epoch 00007: val_accuracy did not improve from 0.29303\n",
      "\n",
      "Epoch 00008: val_accuracy did not improve from 0.29303\n",
      "\n",
      "Epoch 00009: val_accuracy did not improve from 0.29303\n",
      "\n",
      "Epoch 00010: val_accuracy did not improve from 0.29303\n",
      "\n",
      "Epoch 00011: val_accuracy did not improve from 0.29303\n",
      "\n",
      "Epoch 00012: val_accuracy did not improve from 0.29303\n",
      "\n",
      "Epoch 00013: val_accuracy did not improve from 0.29303\n",
      "\n",
      "Epoch 00014: val_accuracy did not improve from 0.29303\n",
      "\n",
      "Epoch 00015: val_accuracy did not improve from 0.29303\n",
      "\n",
      "Epoch 00016: val_accuracy did not improve from 0.29303\n",
      "\n",
      "Epoch 00017: val_accuracy did not improve from 0.29303\n",
      "\n",
      "Epoch 00018: val_accuracy did not improve from 0.29303\n",
      "\n",
      "Epoch 00019: val_accuracy did not improve from 0.29303\n",
      "\n",
      "Epoch 00020: val_accuracy did not improve from 0.29303\n",
      "\n",
      "Epoch 00021: val_accuracy did not improve from 0.29303\n",
      "\n",
      "Epoch 00022: val_accuracy did not improve from 0.29303\n",
      "\n",
      "Epoch 00023: val_accuracy did not improve from 0.29303\n",
      "\n",
      "Epoch 00024: val_accuracy did not improve from 0.29303\n",
      "\n",
      "Epoch 00025: val_accuracy did not improve from 0.29303\n",
      "\n",
      "Epoch 00026: val_accuracy did not improve from 0.29303\n",
      "\n",
      "Epoch 00027: val_accuracy did not improve from 0.29303\n",
      "\n",
      "Epoch 00028: val_accuracy did not improve from 0.29303\n",
      "\n",
      "Epoch 00029: val_accuracy did not improve from 0.29303\n",
      "\n",
      "Epoch 00030: val_accuracy did not improve from 0.29303\n",
      "\n",
      "Epoch 00031: val_accuracy did not improve from 0.29303\n",
      "\n",
      "Epoch 00032: val_accuracy did not improve from 0.29303\n",
      "\n",
      "Epoch 00033: val_accuracy did not improve from 0.29303\n",
      "\n",
      "Epoch 00034: val_accuracy did not improve from 0.29303\n",
      "\n",
      "Epoch 00035: val_accuracy did not improve from 0.29303\n",
      "\n",
      "Epoch 00036: val_accuracy did not improve from 0.29303\n",
      "\n",
      "Epoch 00037: val_accuracy did not improve from 0.29303\n",
      "\n",
      "Epoch 00038: val_accuracy did not improve from 0.29303\n",
      "\n",
      "Epoch 00039: val_accuracy did not improve from 0.29303\n",
      "\n",
      "Epoch 00040: val_accuracy did not improve from 0.29303\n",
      "\n",
      "Epoch 00041: val_accuracy did not improve from 0.29303\n",
      "\n",
      "Epoch 00042: val_accuracy did not improve from 0.29303\n",
      "\n",
      "Epoch 00043: val_accuracy did not improve from 0.29303\n",
      "Epoch 00043: early stopping\n"
     ]
    }
   ],
   "source": [
    "# simple early stopping\n",
    "es = EarlyStopping(monitor='val_loss', mode='min', verbose=1, patience=25)\n",
    "mc = ModelCheckpoint('best_model.h5', monitor='val_accuracy', mode='max', verbose=1, save_best_only=True)\n",
    "\n",
    "# fit model\n",
    "history = model.fit(X_train, y_train, validation_data=(X_val, y_val), epochs=4000, verbose=0, callbacks=[es, mc], batch_size=250)"
   ]
  },
  {
   "cell_type": "code",
   "execution_count": 7,
   "metadata": {},
   "outputs": [
    {
     "name": "stderr",
     "output_type": "stream",
     "text": [
      "2021-12-28 18:19:36.110580: I tensorflow/core/grappler/optimizers/custom_graph_optimizer_registry.cc:112] Plugin optimizer for device_type GPU is enabled.\n"
     ]
    },
    {
     "name": "stdout",
     "output_type": "stream",
     "text": [
      "Train: 0.291, Test: 0.087\n"
     ]
    }
   ],
   "source": [
    "# load the saved model\n",
    "saved_model = load_model('best_model.h5')\n",
    "\n",
    "# evaluate the model\n",
    "_, train_acc = saved_model.evaluate(X_train, y_train, verbose=0)\n",
    "_, test_acc = saved_model.evaluate(X_test, y_test, verbose=0)\n",
    "print('Train: %.3f, Test: %.3f' % (train_acc, test_acc))"
   ]
  },
  {
   "cell_type": "code",
   "execution_count": 11,
   "metadata": {},
   "outputs": [
    {
     "data": {
      "image/png": "[encoded data removed]",
      "text/plain": [
       "<Figure size 432x288 with 1 Axes>"
      ]
     },
     "metadata": {
      "needs_background": "light"
     },
     "output_type": "display_data"
    }
   ],
   "source": [
    "from matplotlib import pyplot\n",
    "\n",
    "# plot training history\n",
    "pyplot.plot(history.history['accuracy'], label='train')\n",
    "pyplot.plot(history.history['val_accuracy'], label='val')\n",
    "pyplot.legend()\n",
    "pyplot.show()"
   ]
  },
  {
   "cell_type": "code",
   "execution_count": null,
   "metadata": {},
   "outputs": [],
   "source": []
  }
 ],
 "metadata": {
  "interpreter": {
   "hash": "7c1ff8466b40987790f7003318d5d566d36912b165f995ac60b7541822dbaa6e"
  },
  "kernelspec": {
   "display_name": "Python 3.7.11 64-bit ('tf': conda)",
   "language": "python",
   "name": "python3"
  },
  "language_info": {
   "codemirror_mode": {
    "name": "ipython",
    "version": 3
   },
   "file_extension": ".py",
   "mimetype": "text/x-python",
   "name": "python",
   "nbconvert_exporter": "python",
   "pygments_lexer": "ipython3",
   "version": "3.8.12"
  },
  "orig_nbformat": 4
 },
 "nbformat": 4,
 "nbformat_minor": 2
}
