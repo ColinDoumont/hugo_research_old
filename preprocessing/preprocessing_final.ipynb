{
 "cells": [
  {
   "cell_type": "markdown",
   "metadata": {},
   "source": [
    "0. ffill\n",
    "1. medianfill\n",
    "2. ebit\n",
    "3. ttm\n",
    "4. lags\n",
    "5. dropna"
   ]
  },
  {
   "cell_type": "code",
   "execution_count": 1,
   "metadata": {},
   "outputs": [
    {
     "name": "stderr",
     "output_type": "stream",
     "text": [
      "Intel(R) Extension for Scikit-learn* enabled (https://github.com/intel/scikit-learn-intelex)\n"
     ]
    }
   ],
   "source": [
    "# Patching sklearn for improved performance.\n",
    "from sklearnex import patch_sklearn\n",
    "patch_sklearn()"
   ]
  },
  {
   "cell_type": "code",
   "execution_count": 2,
   "metadata": {},
   "outputs": [],
   "source": [
    "# Importing necessary packages.\n",
    "import pandas as pd\n",
    "import numpy as np\n",
    "from IPython.display import display\n",
    "from preprocessing import *\n",
    "from datetime import datetime\n",
    "from sklearn.model_selection import train_test_split"
   ]
  },
  {
   "cell_type": "code",
   "execution_count": 3,
   "metadata": {},
   "outputs": [
    {
     "data": {
      "text/html": [
       "<div>\n",
       "<style scoped>\n",
       "    .dataframe tbody tr th:only-of-type {\n",
       "        vertical-align: middle;\n",
       "    }\n",
       "\n",
       "    .dataframe tbody tr th {\n",
       "        vertical-align: top;\n",
       "    }\n",
       "\n",
       "    .dataframe thead th {\n",
       "        text-align: right;\n",
       "    }\n",
       "</style>\n",
       "<table border=\"1\" class=\"dataframe\">\n",
       "  <thead>\n",
       "    <tr style=\"text-align: right;\">\n",
       "      <th></th>\n",
       "      <th>gvkey</th>\n",
       "      <th>datadate</th>\n",
       "      <th>fyearq</th>\n",
       "      <th>fqtr</th>\n",
       "      <th>indfmt</th>\n",
       "      <th>consol</th>\n",
       "      <th>popsrc</th>\n",
       "      <th>datafmt</th>\n",
       "      <th>tic</th>\n",
       "      <th>cusip</th>\n",
       "      <th>...</th>\n",
       "      <th>niq</th>\n",
       "      <th>ppegtq</th>\n",
       "      <th>rectq</th>\n",
       "      <th>revtq</th>\n",
       "      <th>txpq</th>\n",
       "      <th>uaptq</th>\n",
       "      <th>xoprq</th>\n",
       "      <th>xsgaq</th>\n",
       "      <th>costat</th>\n",
       "      <th>prccq</th>\n",
       "    </tr>\n",
       "  </thead>\n",
       "  <tbody>\n",
       "    <tr>\n",
       "      <th>0</th>\n",
       "      <td>1000</td>\n",
       "      <td>1970-03-31</td>\n",
       "      <td>1970</td>\n",
       "      <td>1.0</td>\n",
       "      <td>INDL</td>\n",
       "      <td>C</td>\n",
       "      <td>D</td>\n",
       "      <td>STD</td>\n",
       "      <td>AE.2</td>\n",
       "      <td>000032102</td>\n",
       "      <td>...</td>\n",
       "      <td>0.605</td>\n",
       "      <td>NaN</td>\n",
       "      <td>NaN</td>\n",
       "      <td>9.478</td>\n",
       "      <td>NaN</td>\n",
       "      <td>NaN</td>\n",
       "      <td>NaN</td>\n",
       "      <td>NaN</td>\n",
       "      <td>I</td>\n",
       "      <td>NaN</td>\n",
       "    </tr>\n",
       "    <tr>\n",
       "      <th>1</th>\n",
       "      <td>1000</td>\n",
       "      <td>1970-06-30</td>\n",
       "      <td>1970</td>\n",
       "      <td>2.0</td>\n",
       "      <td>INDL</td>\n",
       "      <td>C</td>\n",
       "      <td>D</td>\n",
       "      <td>STD</td>\n",
       "      <td>AE.2</td>\n",
       "      <td>000032102</td>\n",
       "      <td>...</td>\n",
       "      <td>0.648</td>\n",
       "      <td>NaN</td>\n",
       "      <td>NaN</td>\n",
       "      <td>9.916</td>\n",
       "      <td>NaN</td>\n",
       "      <td>NaN</td>\n",
       "      <td>NaN</td>\n",
       "      <td>NaN</td>\n",
       "      <td>I</td>\n",
       "      <td>NaN</td>\n",
       "    </tr>\n",
       "    <tr>\n",
       "      <th>2</th>\n",
       "      <td>1000</td>\n",
       "      <td>1970-09-30</td>\n",
       "      <td>1970</td>\n",
       "      <td>3.0</td>\n",
       "      <td>INDL</td>\n",
       "      <td>C</td>\n",
       "      <td>D</td>\n",
       "      <td>STD</td>\n",
       "      <td>AE.2</td>\n",
       "      <td>000032102</td>\n",
       "      <td>...</td>\n",
       "      <td>0.369</td>\n",
       "      <td>NaN</td>\n",
       "      <td>NaN</td>\n",
       "      <td>10.698</td>\n",
       "      <td>NaN</td>\n",
       "      <td>NaN</td>\n",
       "      <td>NaN</td>\n",
       "      <td>NaN</td>\n",
       "      <td>I</td>\n",
       "      <td>11.75</td>\n",
       "    </tr>\n",
       "    <tr>\n",
       "      <th>3</th>\n",
       "      <td>1000</td>\n",
       "      <td>1970-12-31</td>\n",
       "      <td>1970</td>\n",
       "      <td>4.0</td>\n",
       "      <td>INDL</td>\n",
       "      <td>C</td>\n",
       "      <td>D</td>\n",
       "      <td>STD</td>\n",
       "      <td>AE.2</td>\n",
       "      <td>000032102</td>\n",
       "      <td>...</td>\n",
       "      <td>-1.064</td>\n",
       "      <td>NaN</td>\n",
       "      <td>NaN</td>\n",
       "      <td>10.919</td>\n",
       "      <td>NaN</td>\n",
       "      <td>NaN</td>\n",
       "      <td>35.749</td>\n",
       "      <td>8.249</td>\n",
       "      <td>I</td>\n",
       "      <td>10.00</td>\n",
       "    </tr>\n",
       "    <tr>\n",
       "      <th>4</th>\n",
       "      <td>1000</td>\n",
       "      <td>1971-03-31</td>\n",
       "      <td>1971</td>\n",
       "      <td>1.0</td>\n",
       "      <td>INDL</td>\n",
       "      <td>C</td>\n",
       "      <td>D</td>\n",
       "      <td>STD</td>\n",
       "      <td>AE.2</td>\n",
       "      <td>000032102</td>\n",
       "      <td>...</td>\n",
       "      <td>0.346</td>\n",
       "      <td>NaN</td>\n",
       "      <td>NaN</td>\n",
       "      <td>7.983</td>\n",
       "      <td>NaN</td>\n",
       "      <td>NaN</td>\n",
       "      <td>NaN</td>\n",
       "      <td>NaN</td>\n",
       "      <td>I</td>\n",
       "      <td>9.75</td>\n",
       "    </tr>\n",
       "  </tbody>\n",
       "</table>\n",
       "<p>5 rows × 33 columns</p>\n",
       "</div>"
      ],
      "text/plain": [
       "   gvkey   datadate  fyearq  fqtr indfmt consol popsrc datafmt   tic  \\\n",
       "0   1000 1970-03-31    1970   1.0   INDL      C      D     STD  AE.2   \n",
       "1   1000 1970-06-30    1970   2.0   INDL      C      D     STD  AE.2   \n",
       "2   1000 1970-09-30    1970   3.0   INDL      C      D     STD  AE.2   \n",
       "3   1000 1970-12-31    1970   4.0   INDL      C      D     STD  AE.2   \n",
       "4   1000 1971-03-31    1971   1.0   INDL      C      D     STD  AE.2   \n",
       "\n",
       "       cusip  ...    niq ppegtq rectq   revtq  txpq  uaptq   xoprq  xsgaq  \\\n",
       "0  000032102  ...  0.605    NaN   NaN   9.478   NaN    NaN     NaN    NaN   \n",
       "1  000032102  ...  0.648    NaN   NaN   9.916   NaN    NaN     NaN    NaN   \n",
       "2  000032102  ...  0.369    NaN   NaN  10.698   NaN    NaN     NaN    NaN   \n",
       "3  000032102  ... -1.064    NaN   NaN  10.919   NaN    NaN  35.749  8.249   \n",
       "4  000032102  ...  0.346    NaN   NaN   7.983   NaN    NaN     NaN    NaN   \n",
       "\n",
       "   costat  prccq  \n",
       "0       I    NaN  \n",
       "1       I    NaN  \n",
       "2       I  11.75  \n",
       "3       I  10.00  \n",
       "4       I   9.75  \n",
       "\n",
       "[5 rows x 33 columns]"
      ]
     },
     "execution_count": 3,
     "metadata": {},
     "output_type": "execute_result"
    }
   ],
   "source": [
    "df = pd.read_csv (r'/Users/Colin/hugo_research/final_data_v1.csv')\n",
    "df['datadate'] = pd.to_datetime(df.datadate, format='%d/%m/%Y')\n",
    "df.head()"
   ]
  },
  {
   "cell_type": "code",
   "execution_count": 4,
   "metadata": {},
   "outputs": [
    {
     "data": {
      "text/plain": [
       "Index(['gvkey', 'datadate', 'fyearq', 'fqtr', 'indfmt', 'consol', 'popsrc',\n",
       "       'datafmt', 'tic', 'cusip', 'conm', 'curcdq', 'datacqtr', 'datafqtr',\n",
       "       'acoq', 'aoq', 'cheq', 'cogsq', 'dlcq', 'dpq', 'invtq', 'lcoq', 'ltq',\n",
       "       'niq', 'ppegtq', 'rectq', 'revtq', 'txpq', 'uaptq', 'xoprq', 'xsgaq',\n",
       "       'costat', 'prccq'],\n",
       "      dtype='object')"
      ]
     },
     "execution_count": 4,
     "metadata": {},
     "output_type": "execute_result"
    }
   ],
   "source": [
    "df.columns"
   ]
  },
  {
   "cell_type": "code",
   "execution_count": 5,
   "metadata": {},
   "outputs": [
    {
     "name": "stdout",
     "output_type": "stream",
     "text": [
      "['acoq', 'aoq', 'cheq', 'cogsq', 'dlcq', 'dpq', 'invtq', 'lcoq', 'ltq', 'niq', 'ppegtq', 'rectq', 'revtq', 'txpq', 'uaptq', 'xoprq', 'xsgaq']\n"
     ]
    }
   ],
   "source": [
    "columns_list = df.columns.tolist().copy()\n",
    "columns_list = columns_list[-19:]\n",
    "columns_list.remove('costat')\n",
    "columns_list.remove('prccq')                    #FIXME: still need to add 4 momenum features.\n",
    "print(columns_list)"
   ]
  },
  {
   "cell_type": "code",
   "execution_count": 6,
   "metadata": {},
   "outputs": [],
   "source": [
    "# Filling NaN forwardly.\n",
    "df_ffill = ffill(df, columns_list)\n",
    "\n",
    "# Filling NaN with cross-section median.\n",
    "df_mfill = mfill(df_ffill, columns_list)\n",
    "\n",
    "# Computing quartly EBIT as: ebitq = revtq - xoprq - dpq.\n",
    "df_mfill['ebitq'] = df_mfill['revtq'] - df_mfill['xoprq'] - df_mfill['dpq']\n",
    "\n",
    "# Converting quarterly data to trailing twelve months (TTM) data.\n",
    "ttm_list = ['revtq', 'cogsq', 'xsgaq', 'niq', 'ebitq']\n",
    "df_ttm = ttm(df_mfill, ttm_list)\n",
    "\n",
    "# Adding lags to dataframe.                             #FIXME: shouldn't the lags be x4 here?\n",
    "fundamentals_list = ['revtq', 'cogsq', 'xsgaq', 'niq', 'ebitq', 'cheq', 'rectq', 'invtq', 'acoq', 'ppegtq', 'aoq', 'dlcq', 'uaptq', 'txpq', 'lcoq', 'ltq']\n",
    "df_lagged, X_col_list, y_col_list = lagged(df_ttm, fundamentals_list, lags_list=[-20, -16, -12, -8, -4, 4])\n",
    "\n",
    "# Dropping rows with NaN.\n",
    "df_ready = df_lagged.dropna()"
   ]
  },
  {
   "cell_type": "code",
   "execution_count": 7,
   "metadata": {},
   "outputs": [
    {
     "name": "stdout",
     "output_type": "stream",
     "text": [
      "(624494, 33)\n",
      "(226737, 130)\n"
     ]
    }
   ],
   "source": [
    "print(df.shape)\n",
    "print(df_ready.shape)"
   ]
  },
  {
   "cell_type": "code",
   "execution_count": 8,
   "metadata": {},
   "outputs": [],
   "source": [
    "# Splitting dataframe into train (+val) and test sets.\n",
    "df_train_val = df_ready[(df_ready.datadate >= datetime(1970, 1, 1)) & (df_ready.datadate <= datetime(1999, 12, 31))]\n",
    "df_test = df_ready[(df_ready.datadate >= datetime(2000, 1, 1)) & (df_ready.datadate <= datetime(2016, 12, 31))]"
   ]
  },
  {
   "cell_type": "code",
   "execution_count": 9,
   "metadata": {},
   "outputs": [],
   "source": [
    "# Splitting dataframes into X and y dataframes.\n",
    "X_train_val = df_train_val.filter(X_col_list)\n",
    "y_train_val = df_train_val.filter(y_col_list)\n",
    "X_test = df_test.filter(X_col_list)\n",
    "y_test = df_test.filter(y_col_list)"
   ]
  },
  {
   "cell_type": "code",
   "execution_count": 10,
   "metadata": {},
   "outputs": [
    {
     "name": "stdout",
     "output_type": "stream",
     "text": [
      "(106039, 96)\n",
      "(106039, 16)\n"
     ]
    }
   ],
   "source": [
    "print(X_train_val.shape)\n",
    "print(y_train_val.shape)"
   ]
  },
  {
   "cell_type": "code",
   "execution_count": 11,
   "metadata": {},
   "outputs": [],
   "source": [
    "# Splitting train (+val) dataframe into training and validation sets.\n",
    "X_train, X_val, y_train, y_val = train_test_split(X_train_val, y_train_val, train_size=0.7, random_state=42) #FIXME: not 30% of rows, but 30% of stocks!"
   ]
  },
  {
   "cell_type": "code",
   "execution_count": 12,
   "metadata": {},
   "outputs": [],
   "source": [
    "# Scaling all features to have zero mean and unit standard deviation.           #FIXME: still need to do scaling on last time step!\n",
    "from sklearn.preprocessing import StandardScaler\n",
    "scaler = StandardScaler()\n",
    "X_train = scaler.fit_transform(X_train)\n",
    "X_val = scaler.transform(X_val)\n",
    "X_test = scaler.transform(X_test)\n",
    "y_train = scaler.fit_transform(y_train)\n",
    "y_val = scaler.transform(y_val)\n",
    "y_test = scaler.transform(y_test)"
   ]
  },
  {
   "cell_type": "code",
   "execution_count": 13,
   "metadata": {},
   "outputs": [],
   "source": [
    "# Saving all dataframes needed for modeling as pickle files.\n",
    "df = [[X_train, X_val, X_test, y_train, y_val, y_test], ['X_train', 'X_val', 'X_test', 'y_train', 'y_val', 'y_test']]\n",
    "for i in range(len(df[0])):\n",
    "    name = str()\n",
    "    pd.DataFrame(df[0][i]).to_pickle(\"preprocessing/\" + str(df[1][i]) + \".pkl\")"
   ]
  },
  {
   "cell_type": "code",
   "execution_count": null,
   "metadata": {},
   "outputs": [],
   "source": []
  }
 ],
 "metadata": {
  "interpreter": {
   "hash": "b2e91883c90dc5d28ed733057082b56773b483c29522de9bfa2fe80c59e9fde1"
  },
  "kernelspec": {
   "display_name": "Python 3.9.7 64-bit ('base': conda)",
   "language": "python",
   "name": "python3"
  },
  "language_info": {
   "codemirror_mode": {
    "name": "ipython",
    "version": 3
   },
   "file_extension": ".py",
   "mimetype": "text/x-python",
   "name": "python",
   "nbconvert_exporter": "python",
   "pygments_lexer": "ipython3",
   "version": "3.9.7"
  },
  "orig_nbformat": 4
 },
 "nbformat": 4,
 "nbformat_minor": 2
}
